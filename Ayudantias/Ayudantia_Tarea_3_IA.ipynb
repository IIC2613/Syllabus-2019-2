{
 "cells": [
  {
   "cell_type": "markdown",
   "metadata": {
    "colab_type": "text",
    "id": "oisKwt3v2xu4"
   },
   "source": [
    "# Ayudantía Tarea 3 - Inteligencia Artificial"
   ]
  },
  {
   "cell_type": "markdown",
   "metadata": {
    "colab_type": "text",
    "id": "yMW80xahrpmg"
   },
   "source": [
    "# Setup inicial"
   ]
  },
  {
   "cell_type": "markdown",
   "metadata": {
    "colab_type": "text",
    "id": "Fx_LD4sukUET"
   },
   "source": [
    "## Montar Google Drive"
   ]
  },
  {
   "cell_type": "markdown",
   "metadata": {
    "colab_type": "text",
    "id": "3gvsqTlluBCp"
   },
   "source": [
    "Visualizamos el directorio"
   ]
  },
  {
   "cell_type": "code",
   "execution_count": 0,
   "metadata": {
    "colab": {
     "base_uri": "https://localhost:8080/",
     "height": 35
    },
    "colab_type": "code",
    "id": "mqT6tRrFkgFs",
    "outputId": "a75d6899-3c7a-4693-a228-114f2ef49809"
   },
   "outputs": [
    {
     "name": "stdout",
     "output_type": "stream",
     "text": [
      "sample_data\n"
     ]
    }
   ],
   "source": [
    "!ls"
   ]
  },
  {
   "cell_type": "markdown",
   "metadata": {
    "colab_type": "text",
    "id": "R_qSMlaMuFvs"
   },
   "source": [
    "Montamos Google Drive"
   ]
  },
  {
   "cell_type": "code",
   "execution_count": 0,
   "metadata": {
    "colab": {},
    "colab_type": "code",
    "id": "JB-p6ht4kPJO"
   },
   "outputs": [],
   "source": [
    "from google.colab import drive\n",
    "drive.mount('/content/gdrive')"
   ]
  },
  {
   "cell_type": "markdown",
   "metadata": {
    "colab_type": "text",
    "id": "h7If8ccLuMKs"
   },
   "source": [
    "Ahora podemos ver Google Drive montado y podemos explorarlo como si fueran carpetas locales"
   ]
  },
  {
   "cell_type": "code",
   "execution_count": 0,
   "metadata": {
    "colab": {
     "base_uri": "https://localhost:8080/",
     "height": 35
    },
    "colab_type": "code",
    "id": "InjKPCQikpn1",
    "outputId": "67a74f50-54ea-4a80-82c5-4532459dea7c"
   },
   "outputs": [
    {
     "name": "stdout",
     "output_type": "stream",
     "text": [
      "gdrive\tsample_data\n"
     ]
    }
   ],
   "source": [
    "!ls"
   ]
  },
  {
   "cell_type": "code",
   "execution_count": 0,
   "metadata": {
    "colab": {
     "base_uri": "https://localhost:8080/",
     "height": 53
    },
    "colab_type": "code",
    "id": "7T5TTauakw4R",
    "outputId": "2ccdbde9-bc5e-4305-897e-771e442f311e"
   },
   "outputs": [
    {
     "name": "stdout",
     "output_type": "stream",
     "text": [
      "'Deep Learning'        'Text Mining'\n",
      "'INF-522 Text mining'  'Tópicos Avanzados de Inteligencia Artificial'\n"
     ]
    }
   ],
   "source": [
    "!ls 'gdrive/My Drive/Doctorado/Ramos'"
   ]
  },
  {
   "cell_type": "markdown",
   "metadata": {
    "colab_type": "text",
    "id": "6_EFTi1Mmha6"
   },
   "source": [
    "# Preparación de datos"
   ]
  },
  {
   "cell_type": "markdown",
   "metadata": {
    "colab_type": "text",
    "id": "Q0PnkLJkkLrv"
   },
   "source": [
    "## Bajar Dataset"
   ]
  },
  {
   "cell_type": "markdown",
   "metadata": {
    "colab_type": "text",
    "id": "iuck5drxuh29"
   },
   "source": [
    "Descargamos y descomprimimos el dataset. En este caso desde Dropbox.\n",
    "En caso de subirlo a Google Drive, deben montar la unidad en Colab para poder acceder al archivo como si fuera un archivo local."
   ]
  },
  {
   "cell_type": "code",
   "execution_count": 0,
   "metadata": {
    "colab": {},
    "colab_type": "code",
    "id": "37-WkK5voJCx"
   },
   "outputs": [],
   "source": [
    "!wget https://www.dropbox.com/url/to/dataset/news-headlines-dataset-for-sarcasm-detection.zip.zip\n",
    "!unzip news-headlines-dataset-for-sarcasm-detection.zip"
   ]
  },
  {
   "cell_type": "markdown",
   "metadata": {
    "colab_type": "text",
    "id": "hjyUmUc825S-"
   },
   "source": [
    "## Cargar datos"
   ]
  },
  {
   "cell_type": "code",
   "execution_count": 0,
   "metadata": {
    "colab": {},
    "colab_type": "code",
    "id": "RTz4_EjnrzAj"
   },
   "outputs": [],
   "source": [
    "import json\n",
    "\n",
    "def parse_data(filename):\n",
    "  # TO DO: abrir el archivo 'filename' y convertir cada línea en un diccionario, usando:\n",
    "  # item = json.loads(line_clean_text)\n",
    "  items = []\n",
    "  return items\n",
    "\n",
    "data = parse_data('./Sarcasm_Headlines_Dataset_v2.json')"
   ]
  },
  {
   "cell_type": "code",
   "execution_count": 0,
   "metadata": {
    "colab": {},
    "colab_type": "code",
    "id": "3aJT-vRer3lM"
   },
   "outputs": [],
   "source": [
    "x_in = [x['headline'].replace(\"'\",\"\").replace(\":\",\"\") for x in data]\n",
    "y = [x['is_sarcastic'] for x in data]"
   ]
  },
  {
   "cell_type": "markdown",
   "metadata": {
    "colab_type": "text",
    "id": "unfOLtkI4xZJ"
   },
   "source": [
    "El siguiente código imprime una muestra de los 10 primeros elementos no-sarcásticos y sarcásticos encontrados en el dataset."
   ]
  },
  {
   "cell_type": "code",
   "execution_count": 0,
   "metadata": {
    "colab": {},
    "colab_type": "code",
    "id": "gkFBpimiI8l9"
   },
   "outputs": [],
   "source": [
    "print('Muestra de algunos elementos del dataset:')\n",
    "sample = ['-(NOT SARCASTIC) '+x_in[i] for i in range(len(x_in)) if not y[i]][:10]\n",
    "sample = sample + ['-(SARCASTIC)     '+x_in[i] for i in range(len(x_in)) if y[i]][:10]\n",
    "print('\\n'+'\\n'.join(sample))"
   ]
  },
  {
   "cell_type": "markdown",
   "metadata": {
    "colab_type": "text",
    "id": "h-vQeCGW5kah"
   },
   "source": [
    "El siguiente código muestra la cantidad de elementos por clase. Notar que sum(y) entrega la cantidad de elementos sarcásticos pues en el caso contrario la etiqueta es cero."
   ]
  },
  {
   "cell_type": "code",
   "execution_count": 0,
   "metadata": {
    "colab": {
     "base_uri": "https://localhost:8080/",
     "height": 53
    },
    "colab_type": "code",
    "id": "Q6qw4AIO5CkD",
    "outputId": "03f4a7fe-e891-4d16-b451-05716845020e"
   },
   "outputs": [
    {
     "name": "stdout",
     "output_type": "stream",
     "text": [
      "total de registros no sarcasticos: 14985\n",
      "total de registros sarcasticos: 13634\n"
     ]
    }
   ],
   "source": [
    "# Total de muestras\n",
    "tot_registros = len(y)\n",
    "tot_sarcasticos = sum(y)\n",
    "tot_no_sarcasticos = tot_registros - tot_sarcasticos\n",
    "print('total de registros no sarcasticos: '+str(tot_no_sarcasticos))\n",
    "print('total de registros sarcasticos: '+str(tot_sarcasticos))"
   ]
  },
  {
   "cell_type": "markdown",
   "metadata": {
    "colab_type": "text",
    "id": "JRVCUaKa98P9"
   },
   "source": [
    "## Transformación a Vector de Frecuencias"
   ]
  },
  {
   "cell_type": "code",
   "execution_count": 0,
   "metadata": {
    "colab": {},
    "colab_type": "code",
    "id": "K_4gWGTN1vK2"
   },
   "outputs": [],
   "source": [
    "from sklearn.feature_extraction.text import CountVectorizer\n",
    "\n",
    "# supongamos que x_train es el set de entrenamiento\n",
    "x_train = ['first train sentence', 'another sentence with words like dog and cat', 'another more']\n",
    "vectorizer = CountVectorizer(x_train) # make object of Count Vectorizer\n",
    "features_train = vectorizer.fit_transform(x_train) # generar dataset de training Bow\n",
    "\n",
    "# supongamos que x_test es el set de test\n",
    "x_test = ['first test sentence (a sentence with unknown words like asassadasd)', 'another sentence', 'another more']\n",
    "features_test = vectorizer.transform(x_test)"
   ]
  },
  {
   "cell_type": "markdown",
   "metadata": {
    "colab_type": "text",
    "id": "xKod3w-hzFcw"
   },
   "source": [
    "Podemos ver que en lugar de ser un vector comun y corriente, está almacenado como un vector \"sparse\" que solamente almacena las coordenadas y valores de aquellos elementos distintos de cero (que debiensen ser la minoria). En el siguiente ejemplo, el índice 0 indica que estamos observando el primer elemento"
   ]
  },
  {
   "cell_type": "code",
   "execution_count": 0,
   "metadata": {
    "colab": {
     "base_uri": "https://localhost:8080/",
     "height": 71
    },
    "colab_type": "code",
    "id": "85IHtUYDhrjB",
    "outputId": "125b55aa-1fe9-444f-b065-f4c936524791"
   },
   "outputs": [
    {
     "name": "stdout",
     "output_type": "stream",
     "text": [
      "  (0, 4)\t1\n",
      "  (0, 8)\t1\n",
      "  (0, 7)\t1\n"
     ]
    }
   ],
   "source": [
    "print(features_train[0,:])"
   ]
  },
  {
   "cell_type": "code",
   "execution_count": 0,
   "metadata": {
    "colab": {
     "base_uri": "https://localhost:8080/",
     "height": 107
    },
    "colab_type": "code",
    "id": "ifUjHUp9irJv",
    "outputId": "c976aa1f-ffac-4dbd-facc-3e507ef97ee7"
   },
   "outputs": [
    {
     "name": "stdout",
     "output_type": "stream",
     "text": [
      "  (0, 4)\t1\n",
      "  (0, 5)\t1\n",
      "  (0, 7)\t2\n",
      "  (0, 9)\t1\n",
      "  (0, 10)\t1\n"
     ]
    }
   ],
   "source": [
    "print(features_test[0,:])"
   ]
  },
  {
   "cell_type": "markdown",
   "metadata": {
    "colab_type": "text",
    "id": "Rh0QXjLMOENq"
   },
   "source": [
    "## Transformación a Vector basado en Word2Vec"
   ]
  },
  {
   "cell_type": "code",
   "execution_count": 0,
   "metadata": {
    "colab": {
     "base_uri": "https://localhost:8080/",
     "height": 89
    },
    "colab_type": "code",
    "id": "ZRI49APxPoXT",
    "outputId": "83798da6-673a-4a01-9af1-7a511c8d4099"
   },
   "outputs": [
    {
     "name": "stdout",
     "output_type": "stream",
     "text": [
      "Downloading...\n",
      "From: https://drive.google.com/uc?id=0B7XkCwpI5KDYNlNUTTlSS21pQmM\n",
      "To: /content/GoogleNews-vectors-negative300.bin.gz\n",
      "1.65GB [00:20, 80.5MB/s]\n"
     ]
    }
   ],
   "source": [
    "!gdown --id 0B7XkCwpI5KDYNlNUTTlSS21pQmM\n",
    "!gunzip GoogleNews-vectors-negative300.bin.gz"
   ]
  },
  {
   "cell_type": "markdown",
   "metadata": {
    "colab_type": "text",
    "id": "_Y3A1ygrtunR"
   },
   "source": [
    "Visualizamos la carpeta para ver el nombre del archivo descomprimido"
   ]
  },
  {
   "cell_type": "code",
   "execution_count": 0,
   "metadata": {
    "colab": {
     "base_uri": "https://localhost:8080/",
     "height": 125
    },
    "colab_type": "code",
    "id": "JzUNyOQBQMmE",
    "outputId": "c0132e27-e702-49d7-c7e2-65a99d6182e9"
   },
   "outputs": [
    {
     "name": "stdout",
     "output_type": "stream",
     "text": [
      "gdrive\n",
      "GoogleNews-vectors-negative300.bin\n",
      "news-headlines-dataset-for-sarcasm-detection.zip\n",
      "sample_data\n",
      "Sarcasm_Headlines_Dataset.json\n",
      "Sarcasm_Headlines_Dataset_v2.json\n"
     ]
    }
   ],
   "source": [
    "!ls"
   ]
  },
  {
   "cell_type": "code",
   "execution_count": 0,
   "metadata": {
    "colab": {
     "base_uri": "https://localhost:8080/",
     "height": 73
    },
    "colab_type": "code",
    "id": "D_jz9tJzT7x6",
    "outputId": "c54204d4-2168-4284-8dfc-322f8a4f8d87"
   },
   "outputs": [
    {
     "name": "stderr",
     "output_type": "stream",
     "text": [
      "/usr/local/lib/python3.6/dist-packages/smart_open/smart_open_lib.py:398: UserWarning: This function is deprecated, use smart_open.open instead. See the migration notes for details: https://github.com/RaRe-Technologies/smart_open/blob/master/README.rst#migrating-to-the-new-open-function\n",
      "  'See the migration notes for details: %s' % _MIGRATION_NOTES_URL\n"
     ]
    }
   ],
   "source": [
    "import gensim\n",
    "import numpy as np\n",
    "\n",
    "# creamos el modelo word2vec\n",
    "path = 'GoogleNews-vectors-negative300.bin'\n",
    "model = gensim.models.KeyedVectors.load_word2vec_format(path, binary=True)"
   ]
  },
  {
   "cell_type": "code",
   "execution_count": 0,
   "metadata": {
    "colab": {
     "base_uri": "https://localhost:8080/",
     "height": 73
    },
    "colab_type": "code",
    "id": "3YtfLnA5wfHc",
    "outputId": "d8b0e1c7-9f2f-4fd1-a23e-2e6ab52efa80"
   },
   "outputs": [
    {
     "name": "stderr",
     "output_type": "stream",
     "text": [
      "/usr/local/lib/python3.6/dist-packages/ipykernel_launcher.py:5: DeprecationWarning: Call to deprecated `wv` (Attribute will be removed in 4.0.0, use self instead).\n",
      "  \"\"\"\n"
     ]
    }
   ],
   "source": [
    "# separamos el texto en palabras y quitamos aquellas no encontradas\n",
    "sentence = 'this is an example sentence with unknown words like adfdesfdutd'\n",
    "sentence_words = [word for word in sentence.split() if word in model.vocab]\n",
    "\n",
    "# convertimos cada palabra en vector usando word2vec\n",
    "vectors_sequence = [model.wv[word] for word in sentence_words]\n",
    "\n",
    "# convertimos la secuencia (de largo variable) de vectores en un unico vector.\n",
    "sentence_vector = np.mean(vectors_sequence, axis=0)"
   ]
  },
  {
   "cell_type": "code",
   "execution_count": 0,
   "metadata": {
    "colab": {
     "base_uri": "https://localhost:8080/",
     "height": 35
    },
    "colab_type": "code",
    "id": "hcPPKPyVrbf4",
    "outputId": "4f19618c-c508-4a61-b401-79d97b1f17c5"
   },
   "outputs": [
    {
     "name": "stdout",
     "output_type": "stream",
     "text": [
      "(300,)\n"
     ]
    }
   ],
   "source": [
    "print(sentence_vector.shape)"
   ]
  },
  {
   "cell_type": "markdown",
   "metadata": {
    "colab_type": "text",
    "id": "28ArHEBovXtA"
   },
   "source": [
    "## Eliminación de Stop-Words"
   ]
  },
  {
   "cell_type": "code",
   "execution_count": 0,
   "metadata": {
    "colab": {
     "base_uri": "https://localhost:8080/",
     "height": 55
    },
    "colab_type": "code",
    "id": "9g1nbtrCdugP",
    "outputId": "7953309c-bdde-401a-c353-e220cb00e920"
   },
   "outputs": [
    {
     "name": "stdout",
     "output_type": "stream",
     "text": [
      "{'whoever', 'five', 'becoming', 'am', 'whether', 'yet', 'under', 'none', 'she', 'yours', 'me', 'serious', 'while', 'wherever', 'namely', 'using', \"'ll\", 'hereupon', 'her', 'meanwhile', 'take', 'each', 'formerly', 'front', 'again', 'almost', 'full', 'yourself', 'be', 'just', 'another', 'become', 'toward', 'himself', 'seemed', 'a', 'thence', 'why', 'besides', 'bottom', 'must', 'now', 'hundred', 'really', 'where', 'it', 'if', 'out', 'down', 'around', 'is', 'that', 'were', 're', 'wherein', 'also', 'however', 'hereby', 'regarding', 'to', 'towards', 'eight', 'you', 'who', 'but', 'perhaps', 'thereupon', 'was', 'whom', 'enough', 'n’t', 'only', 'empty', \"'re\", 'alone', 'seem', 'nor', \"'ve\", '’m', 'at', 'then', 'third', 'with', 'yourselves', 'though', 'four', 'done', 'off', 'any', 'here', 'onto', 'them', \"'s\", '’s', 'first', 'except', 'doing', 'due', 'often', 'twelve', 'anyhow', 'same', \"'m\", 'very', 'over', 'herself', 'made', 'three', 'ca', 'no', 'will', 'anyway', 'because', 'their', 'has', '’ll', 'fifteen', 'former', 'across', 'already', 'nowhere', 'together', 'latter', 'keep', 'beyond', 'move', 'own', 'on', 'how', 'nine', 'there', 'ourselves', 'beside', 'through', 'what', 'hers', 'the', 'into', '‘s', \"'d\", 'thereafter', 'whatever', 'such', 'make', 'during', 'they', 'your', 'among', 'sometime', 'an', 'ours', \"n't\", 'mostly', 'please', 'therefore', 'upon', 'last', 'still', '’d', 'us', 'rather', 'nobody', '‘re', '‘ve', 'few', 'hereafter', 'between', 'myself', 'thru', 'whereupon', '’re', 'least', 'less', 'nothing', 'whereas', 'either', 'indeed', 'should', 'by', 'or', 'i', 'more', 'most', 'elsewhere', 'ten', 'next', 'than', 'eleven', 'ever', 'have', 'neither', 'further', 'being', 'somehow', 'our', 'everyone', 'two', '’ve', 'so', 'since', 'too', 'before', 'been', 'quite', 'name', 'up', 'all', 'per', 'call', 'sometimes', 'twenty', 'which', 'both', 'not', 'side', 'themselves', 'anything', 'behind', 'everything', 'thereby', 'its', 'whither', 'unless', 'can', 'whenever', 'always', 'became', 'seems', 'would', 'fifty', 'say', 'something', '‘d', 'show', 'throughout', 'give', 'one', 'do', 'sixty', 'within', 'see', 'several', 'everywhere', 'from', 'thus', 'many', 'my', 'along', 'top', 'whence', 'whereafter', 'as', 'seeming', 'somewhere', 'herein', 'well', 'part', 'does', 'put', 'others', 'afterwards', 'go', 'anywhere', 'his', 'against', '‘m', 'although', 'used', 'becomes', 'without', 'every', 'moreover', 'therein', 'back', 'never', 'get', 'these', 'much', 'and', 'forty', 'in', 'various', 'whereby', 'amount', 'whole', 'about', 'n‘t', 'other', 'otherwise', 'until', 'below', 'we', 'he', 'this', 'whose', 'for', 'beforehand', 'could', 'did', 'amongst', 'are', 'even', 'had', 'nevertheless', 'noone', 'above', 'via', 'him', 'anyone', 'might', 'of', 'some', 'six', 'someone', 'mine', 'once', 'cannot', 'else', 'those', 'itself', '‘ll', 'may', 'when', 'latterly', 'hence', 'after'}\n"
     ]
    }
   ],
   "source": [
    "from spacy.lang.en.stop_words import STOP_WORDS\n",
    "print(STOP_WORDS)"
   ]
  },
  {
   "cell_type": "code",
   "execution_count": 0,
   "metadata": {
    "colab": {
     "base_uri": "https://localhost:8080/",
     "height": 35
    },
    "colab_type": "code",
    "id": "A9Kgnsvbvony",
    "outputId": "08302f78-cebf-4b1f-b1bc-dea443adadb9"
   },
   "outputs": [
    {
     "name": "stdout",
     "output_type": "stream",
     "text": [
      "sample text AI Course\n"
     ]
    }
   ],
   "source": [
    "text = 'this is a sample text for the AI Course'\n",
    "clean_text = ' '.join([word for word in text.split() if word.lower() not in STOP_WORDS])\n",
    "print(clean_text)"
   ]
  },
  {
   "cell_type": "markdown",
   "metadata": {
    "colab_type": "text",
    "id": "JgUYf2UKnlWH"
   },
   "source": [
    "# Ejemplo del uso"
   ]
  },
  {
   "cell_type": "markdown",
   "metadata": {
    "colab_type": "text",
    "id": "pEmm8nJHm1FG"
   },
   "source": [
    "## Split dataset"
   ]
  },
  {
   "cell_type": "code",
   "execution_count": 0,
   "metadata": {
    "colab": {},
    "colab_type": "code",
    "id": "0irnajy7oHLY"
   },
   "outputs": [],
   "source": [
    "from sklearn.datasets import load_iris\n",
    "\n",
    "iris = load_iris()\n",
    "\n",
    "iris_X = iris.data\n",
    "iris_y = iris.target"
   ]
  },
  {
   "cell_type": "code",
   "execution_count": 0,
   "metadata": {
    "colab": {},
    "colab_type": "code",
    "id": "bqLPZY-npPej"
   },
   "outputs": [],
   "source": [
    "from sklearn.model_selection import train_test_split\n",
    "\n",
    "X_train, X_test, y_train, y_test = train_test_split(iris_X, iris_y, test_size=0.2)"
   ]
  },
  {
   "cell_type": "code",
   "execution_count": 0,
   "metadata": {
    "colab": {
     "base_uri": "https://localhost:8080/",
     "height": 35
    },
    "colab_type": "code",
    "id": "-qUbRvcwplNM",
    "outputId": "ab6fd4a3-17f1-40bf-a391-5ba0617f64f9"
   },
   "outputs": [
    {
     "data": {
      "text/plain": [
       "(120, 4)"
      ]
     },
     "execution_count": 25,
     "metadata": {
      "tags": []
     },
     "output_type": "execute_result"
    }
   ],
   "source": [
    "X_train.shape"
   ]
  },
  {
   "cell_type": "code",
   "execution_count": 0,
   "metadata": {
    "colab": {
     "base_uri": "https://localhost:8080/",
     "height": 35
    },
    "colab_type": "code",
    "id": "TtoDE7prpoqX",
    "outputId": "7c5d8af7-8d2e-4fbf-9b16-beff00883351"
   },
   "outputs": [
    {
     "data": {
      "text/plain": [
       "(30, 4)"
      ]
     },
     "execution_count": 26,
     "metadata": {
      "tags": []
     },
     "output_type": "execute_result"
    }
   ],
   "source": [
    "X_test.shape"
   ]
  },
  {
   "cell_type": "code",
   "execution_count": 0,
   "metadata": {
    "colab": {
     "base_uri": "https://localhost:8080/",
     "height": 35
    },
    "colab_type": "code",
    "id": "RFV3N4XdptE8",
    "outputId": "04574d01-b978-478d-cf98-9ae74fe2b3c6"
   },
   "outputs": [
    {
     "data": {
      "text/plain": [
       "(120,)"
      ]
     },
     "execution_count": 27,
     "metadata": {
      "tags": []
     },
     "output_type": "execute_result"
    }
   ],
   "source": [
    "y_train.shape"
   ]
  },
  {
   "cell_type": "code",
   "execution_count": 0,
   "metadata": {
    "colab": {
     "base_uri": "https://localhost:8080/",
     "height": 35
    },
    "colab_type": "code",
    "id": "JVm4cnlZpwGE",
    "outputId": "56979df1-45c7-4212-f62f-8cf55d288ebb"
   },
   "outputs": [
    {
     "data": {
      "text/plain": [
       "(30,)"
      ]
     },
     "execution_count": 28,
     "metadata": {
      "tags": []
     },
     "output_type": "execute_result"
    }
   ],
   "source": [
    "y_test.shape"
   ]
  },
  {
   "cell_type": "markdown",
   "metadata": {
    "colab_type": "text",
    "id": "mdGGABhy3CBJ"
   },
   "source": [
    "## Entrenar modelo Random Forest"
   ]
  },
  {
   "cell_type": "code",
   "execution_count": 0,
   "metadata": {
    "colab": {
     "base_uri": "https://localhost:8080/",
     "height": 143
    },
    "colab_type": "code",
    "id": "M__4yxBFmU73",
    "outputId": "d1f3c3d4-f0b7-4f9d-d582-e3453a6e821e"
   },
   "outputs": [
    {
     "data": {
      "text/plain": [
       "RandomForestClassifier(bootstrap=True, class_weight=None, criterion='gini',\n",
       "                       max_depth=None, max_features='auto', max_leaf_nodes=None,\n",
       "                       min_impurity_decrease=0.0, min_impurity_split=None,\n",
       "                       min_samples_leaf=1, min_samples_split=2,\n",
       "                       min_weight_fraction_leaf=0.0, n_estimators=10,\n",
       "                       n_jobs=None, oob_score=False, random_state=None,\n",
       "                       verbose=0, warm_start=False)"
      ]
     },
     "execution_count": 30,
     "metadata": {
      "tags": []
     },
     "output_type": "execute_result"
    }
   ],
   "source": [
    "from sklearn.ensemble import RandomForestClassifier\n",
    "clf = RandomForestClassifier(n_estimators=10)\n",
    "clf.fit(X_train, y_train)"
   ]
  },
  {
   "cell_type": "code",
   "execution_count": 0,
   "metadata": {
    "colab": {},
    "colab_type": "code",
    "id": "NQ20rHvhnUfi"
   },
   "outputs": [],
   "source": [
    "  y_predict = clf.predict(X_test)"
   ]
  },
  {
   "cell_type": "code",
   "execution_count": 0,
   "metadata": {
    "colab": {
     "base_uri": "https://localhost:8080/",
     "height": 53
    },
    "colab_type": "code",
    "id": "N6tR1bbAqdPd",
    "outputId": "a196de4c-0ff9-451b-84f9-d5cd5e00f3ed"
   },
   "outputs": [
    {
     "name": "stdout",
     "output_type": "stream",
     "text": [
      "[0 1 1 0 1 0 1 0 0 2 0 2 0 0 2 2 1 0 2 0 0 0 1 2 2 2 0 1 0 1]\n",
      "[0 1 1 0 2 0 1 0 0 2 0 1 0 0 2 2 2 0 2 0 0 0 1 2 2 2 0 1 0 1]\n"
     ]
    }
   ],
   "source": [
    "print(y_predict)\n",
    "print(y_test)"
   ]
  },
  {
   "cell_type": "markdown",
   "metadata": {
    "colab_type": "text",
    "id": "85AwzU4c3N52"
   },
   "source": [
    "## Cálculo de métricas"
   ]
  },
  {
   "cell_type": "code",
   "execution_count": 0,
   "metadata": {
    "colab": {
     "base_uri": "https://localhost:8080/",
     "height": 35
    },
    "colab_type": "code",
    "id": "TC6yfLrR3Sf2",
    "outputId": "d038b469-0b7f-4a68-be04-5ec6fb337703"
   },
   "outputs": [
    {
     "data": {
      "text/plain": [
       "0.9"
      ]
     },
     "execution_count": 33,
     "metadata": {
      "tags": []
     },
     "output_type": "execute_result"
    }
   ],
   "source": [
    "from sklearn.metrics import accuracy_score\n",
    "\n",
    "accuracy_score(y_test, y_predict)"
   ]
  }
 ],
 "metadata": {
  "colab": {
   "collapsed_sections": [],
   "machine_shape": "hm",
   "name": "Ayudantia Tarea_3_IA.ipynb",
   "provenance": []
  },
  "kernelspec": {
   "display_name": "Python 3",
   "language": "python",
   "name": "python3"
  },
  "language_info": {
   "codemirror_mode": {
    "name": "ipython",
    "version": 3
   },
   "file_extension": ".py",
   "mimetype": "text/x-python",
   "name": "python",
   "nbconvert_exporter": "python",
   "pygments_lexer": "ipython3",
   "version": "3.5.2"
  }
 },
 "nbformat": 4,
 "nbformat_minor": 1
}
